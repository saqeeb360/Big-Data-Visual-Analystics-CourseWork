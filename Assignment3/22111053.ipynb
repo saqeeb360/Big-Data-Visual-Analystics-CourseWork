{
  "cells": [
    {
      "cell_type": "code",
      "source": [
        "# To run this program there are some dependencies please install these: vtk, numpy, plotly, ipywidgets\n",
        "# To install vtk use below command:\n",
        "# !pip install vtk"
      ],
      "metadata": {
        "id": "afkzl5RJXogi"
      },
      "execution_count": null,
      "outputs": []
    },
    {
      "cell_type": "code",
      "source": [
        "# To run this program on google colab execute the below code first.\n",
        "\n",
        "# from google.colab import output\n",
        "# output.enable_custom_widget_manager()"
      ],
      "metadata": {
        "id": "VkhTbQcImZ5X"
      },
      "execution_count": 2,
      "outputs": []
    },
    {
      "cell_type": "code",
      "source": [
        "# Load the libraries \n",
        "import plotly.graph_objs as go\n",
        "import numpy as np\n",
        "from ipywidgets import Layout\n",
        "import ipywidgets as widgets\n",
        "import vtk"
      ],
      "metadata": {
        "id": "DPU_0eXDexIp"
      },
      "execution_count": 3,
      "outputs": []
    },
    {
      "cell_type": "code",
      "execution_count": null,
      "metadata": {
        "id": "jnU-NnKm0_gT"
      },
      "outputs": [],
      "source": [
        "# Load the VTI file\n",
        "reader = vtk.vtkXMLImageDataReader()\n",
        "reader.SetFileName('mixture.vti')\n",
        "reader.Update()\n",
        "\n",
        "# Get the image data\n",
        "imageData = reader.GetOutput()\n",
        "\n",
        "# Get the dimensions of the image data\n",
        "dim = imageData.GetDimensions()\n",
        "\n",
        "# Get the scalar data\n",
        "scalarData = imageData.GetPointData().GetScalars()\n",
        "\n",
        "# Create empty lists to store the coordinates and scalar values\n",
        "x = []\n",
        "y = []\n",
        "z = []\n",
        "values = []\n",
        "\n",
        "# Iterate through all the points and append the coordinates and scalar values to the lists\n",
        "for k in range(dim[2]):\n",
        "  for j in range(dim[1]):\n",
        "    for i in range(dim[0]):\n",
        "      # Get the index of the point in the scalar data array\n",
        "      index = imageData.ComputePointId((i, j, k))\n",
        "      # print(index)\n",
        "\n",
        "      # Get the coordinates of the point\n",
        "      xCord, yCord, zCord = imageData.GetPoint(index)\n",
        "\n",
        "      # Get the scalar value of the point\n",
        "      scalarValue = scalarData.GetValue(index)\n",
        "\n",
        "      # Append the coordinates and scalar value to the lists\n",
        "      x.append(xCord)\n",
        "      y.append(yCord)\n",
        "      z.append(zCord)\n",
        "      values.append(scalarValue)\n",
        "\n",
        "# Convert list to numpy array\n",
        "values = np.array(values)\n",
        "\n",
        "# Define colormap and somw initial values\n",
        "colormap = 'plasma'\n",
        "isovalue = 0\n",
        "cmin = np.min(values)\n",
        "cmax = np.max(values)\n",
        "\n",
        "# Define slider widget\n",
        "slider = widgets.FloatSlider(value=isovalue, min=np.min(values), max=np.max(values), step=0.01,\n",
        "                             description='Isovalue', continuous_update=False, layout=Layout(width='500px'),)\n",
        "\n",
        "# Define reset button widget\n",
        "resetBtn = widgets.Button(description='Reset', disabled=False, button_style='', tooltip='Reset',)\n",
        "\n",
        "# We can add custom color using below\n",
        "# colormap = [[0, 'rgb(13,8,135)'],\n",
        "#             [0.20, 'rgb(70,3,159)'],\n",
        "#             [0.40, 'rgb(114,1,168)'],\n",
        "#             [0.6, 'rgb(156,23,158)'],\n",
        "#             [0.7, 'rgb(189,55,134)'],\n",
        "#             [0.8, 'rgb(216,87,107)'],\n",
        "#             [0.9,'rgb(237,121,83)'],\n",
        "#             [0.95, 'rgb(251,159,58)'],\n",
        "#             [1, 'rgb(253,202,38)']]\n",
        "\n",
        "# Create isosurface plot\n",
        "trace1 = go.Isosurface(x=x, y=y, z=z, value=values, opacity=1, colorscale = colormap,\n",
        "                           isomin=isovalue, isomax=isovalue, surface_count=1,showscale=False, cmin=cmin, cmax=cmax)\n",
        "\n",
        "# Create histogram plot\n",
        "trace2 = go.Histogram(x=values, opacity=0.75, name='Volume', nbinsx= 30)\n",
        "\n",
        "# Define figure layout for isosurface\n",
        "fig_layout1 = go.Layout(scene=dict(xaxis=dict(title='X',showticklabels=False),\n",
        "                                   yaxis=dict(title='Y',showticklabels=False),\n",
        "                                   zaxis=dict(title='Z',showticklabels=False)),\n",
        "                        width=600, height=500,\n",
        "                        plot_bgcolor='grey')\n",
        "\n",
        "# Define figure layout for histogram\n",
        "fig_layout2 = go.Layout(width=450, height=450, \n",
        "                        xaxis=dict(title='Vortex scalar values'), \n",
        "                        yaxis=dict(title='Frequency'))\n",
        "\n",
        "# Create Figure Widget for isosurface and histogram\n",
        "g = go.FigureWidget(data=[trace1],layout=fig_layout1)\n",
        "f = go.FigureWidget(data=[trace2],layout=fig_layout2)\n",
        "\n",
        "# Update function for slider\n",
        "def response(change):\n",
        "  with g.batch_update():\n",
        "    g.data[0].isomax = slider.value\n",
        "    g.data[0].isomin = slider.value\n",
        "\n",
        "  with f.batch_update(): \n",
        "    a = values <= slider.value + 0.25\n",
        "    b = values >= slider.value - 0.25\n",
        "    newX = values[(a & b)]\n",
        "    f.data[0].x = newX\n",
        "\n",
        "slider.observe(response, names=\"value\")\n",
        "\n",
        "# Update function for Reset button\n",
        "def resetfn(change):\n",
        "  with g.batch_update():\n",
        "    slider.value = 0\n",
        "  with f.batch_update():\n",
        "    newX = values.copy()\n",
        "    f.data[0].x = newX\n",
        "\n",
        "resetBtn.on_click(resetfn)\n",
        "\n",
        "# Combine the widgets and figure\n",
        "container1 = widgets.HBox([slider, resetBtn])\n",
        "container2 = widgets.HTML(\n",
        "    value=\"Drag the slider to change value (It will take few sec to update.)\",\n",
        "    description=' ',\n",
        ")\n",
        "container3 = widgets.HBox([g,f])\n",
        "\n",
        "# Display all\n",
        "widgets.VBox([container1,container2,container3])"
      ]
    },
    {
      "cell_type": "code",
      "source": [],
      "metadata": {
        "id": "bbhXRz8voPyX"
      },
      "execution_count": null,
      "outputs": []
    }
  ],
  "metadata": {
    "colab": {
      "provenance": []
    },
    "kernelspec": {
      "display_name": "Python 3",
      "name": "python3"
    },
    "language_info": {
      "name": "python"
    }
  },
  "nbformat": 4,
  "nbformat_minor": 0
}